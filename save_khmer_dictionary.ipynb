{
 "cells": [
  {
   "cell_type": "markdown",
   "id": "cfc0bf8e-7cb7-496a-b82f-932ca9238635",
   "metadata": {},
   "source": [
    "# Save Khmer Dictionary"
   ]
  },
  {
   "cell_type": "markdown",
   "id": "dd7a4f39-3bdc-4d66-8922-79619f161722",
   "metadata": {},
   "source": [
    "This is a file where we save Khmer dictioinary from Hugging Face to local json file. Before you begin, you should install the following packages (if it is not installed yet)."
   ]
  },
  {
   "cell_type": "markdown",
   "id": "7a66947b-5ff4-44a9-9acd-53a160fd65bf",
   "metadata": {},
   "source": [
    "**dataset package**: `pip install dataset`"
   ]
  },
  {
   "cell_type": "code",
   "execution_count": 2,
   "id": "11a5569d-553e-4e68-a19a-09e5fea6153f",
   "metadata": {},
   "outputs": [
    {
     "name": "stdout",
     "output_type": "stream",
     "text": [
      "Saved results to output/khmer_dictionary.json\n"
     ]
    }
   ],
   "source": [
    "from datasets import load_dataset\n",
    "import json\n",
    "\n",
    "# Load data from khmer dictionary from hugging face\n",
    "khmer_dictionary = load_dataset(\"seanghay/khmer-dictionary-44k\")\n",
    "\n",
    "# print(len(khmer_dictionary[\"train\"])) # Total words in dictionary 44706\n",
    "\n",
    "results = []\n",
    "for i in range(0,len(khmer_dictionary[\"train\"])):\n",
    "    entry = khmer_dictionary[\"train\"][i]\n",
    "    result = {\n",
    "        \"word\": entry[\"word\"],\n",
    "        \"pos\": entry[\"pos\"],\n",
    "        \"pro\": entry[\"pro\"],\n",
    "        \"definition\": entry[\"definition\"],\n",
    "        \"example\": entry[\"example\"]\n",
    "    }\n",
    "    results.append(result)\n",
    "\n",
    "# save all results\n",
    "OUTPUT_FILE = \"output/khmer_dictionary.json\"\n",
    "with open(OUTPUT_FILE, \"w\", encoding=\"utf-8\") as f:\n",
    "    json.dump(results, f, ensure_ascii=False, indent=2)\n",
    "\n",
    "print(f\"Saved results to {OUTPUT_FILE}\")"
   ]
  },
  {
   "cell_type": "code",
   "execution_count": null,
   "id": "8b5e7f48-ca52-430b-832a-32a4ee8a7e97",
   "metadata": {},
   "outputs": [],
   "source": []
  }
 ],
 "metadata": {
  "kernelspec": {
   "display_name": "my_lab",
   "language": "python",
   "name": "my_lab"
  },
  "language_info": {
   "codemirror_mode": {
    "name": "ipython",
    "version": 3
   },
   "file_extension": ".py",
   "mimetype": "text/x-python",
   "name": "python",
   "nbconvert_exporter": "python",
   "pygments_lexer": "ipython3",
   "version": "3.13.2"
  }
 },
 "nbformat": 4,
 "nbformat_minor": 5
}
